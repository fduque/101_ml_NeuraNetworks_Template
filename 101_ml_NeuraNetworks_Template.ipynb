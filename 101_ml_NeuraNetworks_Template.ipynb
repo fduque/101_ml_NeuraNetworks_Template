{
  "nbformat": 4,
  "nbformat_minor": 0,
  "metadata": {
    "colab": {
      "name": "101_ml_NeuraNetworks_Template.ipynb",
      "provenance": [],
      "authorship_tag": "ABX9TyNmeR7Q5DynMzqaHBHJWwu3"
    },
    "kernelspec": {
      "name": "python3",
      "display_name": "Python 3"
    }
  },
  "cells": [
    {
      "cell_type": "code",
      "metadata": {
        "id": "MKVQDSZmYLbZ",
        "colab_type": "code",
        "colab": {}
      },
      "source": [
        "from sklearn import metrics\n",
        "from sklearn import datasets\n",
        "import pylab as pl #chart lib\n",
        "import pandas as pd\n",
        "import numpy as np"
      ],
      "execution_count": 0,
      "outputs": []
    },
    {
      "cell_type": "code",
      "metadata": {
        "id": "BgMUVNN7YWPA",
        "colab_type": "code",
        "colab": {}
      },
      "source": [
        "#Lets use Iris Dataset (So Famous!)\n",
        "iris = datasets.load_iris()"
      ],
      "execution_count": 0,
      "outputs": []
    },
    {
      "cell_type": "code",
      "metadata": {
        "id": "nQdYqPUuYXm1",
        "colab_type": "code",
        "colab": {}
      },
      "source": [
        "#converting to dataframe format\n",
        "df_iris = pd.DataFrame(data=np.c_[iris['data'],iris['target']], columns=iris['feature_names'] + ['target'])"
      ],
      "execution_count": 0,
      "outputs": []
    },
    {
      "cell_type": "code",
      "metadata": {
        "id": "pyACIoAiYZl-",
        "colab_type": "code",
        "colab": {
          "base_uri": "https://localhost:8080/",
          "height": 235
        },
        "outputId": "9b7b49f0-d6ac-4636-a327-592edac858fe"
      },
      "source": [
        "#checking dataset\n",
        "print(df_iris.head(10))"
      ],
      "execution_count": 4,
      "outputs": [
        {
          "output_type": "stream",
          "text": [
            "   sepal length (cm)  sepal width (cm)  ...  petal width (cm)  target\n",
            "0                5.1               3.5  ...               0.2     0.0\n",
            "1                4.9               3.0  ...               0.2     0.0\n",
            "2                4.7               3.2  ...               0.2     0.0\n",
            "3                4.6               3.1  ...               0.2     0.0\n",
            "4                5.0               3.6  ...               0.2     0.0\n",
            "5                5.4               3.9  ...               0.4     0.0\n",
            "6                4.6               3.4  ...               0.3     0.0\n",
            "7                5.0               3.4  ...               0.2     0.0\n",
            "8                4.4               2.9  ...               0.2     0.0\n",
            "9                4.9               3.1  ...               0.1     0.0\n",
            "\n",
            "[10 rows x 5 columns]\n"
          ],
          "name": "stdout"
        }
      ]
    },
    {
      "cell_type": "code",
      "metadata": {
        "id": "CiDS24iqYbS9",
        "colab_type": "code",
        "colab": {}
      },
      "source": [
        "#transform data into array format\n",
        "x = df_iris.iloc[:, :-1].values #input data\n",
        "y = df_iris.iloc[:, 4].values #output data"
      ],
      "execution_count": 0,
      "outputs": []
    },
    {
      "cell_type": "code",
      "metadata": {
        "id": "XydcNAAQYdJd",
        "colab_type": "code",
        "colab": {}
      },
      "source": [
        "#split train - test dataset\n",
        "from sklearn.model_selection import train_test_split \n",
        "#splitting and setting 20% data as a test\n",
        "X_train, X_test, y_train, y_test = train_test_split(x,y, test_size=0.20) "
      ],
      "execution_count": 0,
      "outputs": []
    },
    {
      "cell_type": "code",
      "metadata": {
        "id": "VD_U8z_EYes8",
        "colab_type": "code",
        "colab": {}
      },
      "source": [
        "#applying data normalization\n",
        "from sklearn.preprocessing import StandardScaler\n",
        "scaler = StandardScaler() \n",
        "scaler.fit(X_train)\n",
        "\n",
        "X_train = scaler.transform(X_train)\n",
        "X_test = scaler.transform(X_test)"
      ],
      "execution_count": 0,
      "outputs": []
    },
    {
      "cell_type": "code",
      "metadata": {
        "id": "QmZ1FvHXYgo8",
        "colab_type": "code",
        "colab": {}
      },
      "source": [
        "from sklearn.neural_network import MLPClassifier"
      ],
      "execution_count": 0,
      "outputs": []
    },
    {
      "cell_type": "code",
      "metadata": {
        "id": "6ifhtYPNYn48",
        "colab_type": "code",
        "colab": {}
      },
      "source": [
        "#setting up Network config\n",
        "\n",
        "#network with 2 layers and 5 neurons\n",
        "\n",
        "clf = MLPClassifier(solver='lbfgs', alpha=0.0005,\n",
        "                    hidden_layer_sizes=(5,5), random_state=1)"
      ],
      "execution_count": 0,
      "outputs": []
    },
    {
      "cell_type": "code",
      "metadata": {
        "id": "-5FfE6kFY70j",
        "colab_type": "code",
        "colab": {
          "base_uri": "https://localhost:8080/",
          "height": 151
        },
        "outputId": "df60f989-324c-457d-f76d-25e9f3b1d943"
      },
      "source": [
        "clf.fit(X_train,y_train)"
      ],
      "execution_count": 12,
      "outputs": [
        {
          "output_type": "execute_result",
          "data": {
            "text/plain": [
              "MLPClassifier(activation='relu', alpha=0.0005, batch_size='auto', beta_1=0.9,\n",
              "              beta_2=0.999, early_stopping=False, epsilon=1e-08,\n",
              "              hidden_layer_sizes=(5, 5), learning_rate='constant',\n",
              "              learning_rate_init=0.001, max_fun=15000, max_iter=200,\n",
              "              momentum=0.9, n_iter_no_change=10, nesterovs_momentum=True,\n",
              "              power_t=0.5, random_state=1, shuffle=True, solver='lbfgs',\n",
              "              tol=0.0001, validation_fraction=0.1, verbose=False,\n",
              "              warm_start=False)"
            ]
          },
          "metadata": {
            "tags": []
          },
          "execution_count": 12
        }
      ]
    },
    {
      "cell_type": "code",
      "metadata": {
        "id": "1RFCe8--aCFC",
        "colab_type": "code",
        "colab": {}
      },
      "source": [
        "#making prediction\n",
        "\n",
        "y_pred = clf.predict(X_test)"
      ],
      "execution_count": 0,
      "outputs": []
    },
    {
      "cell_type": "code",
      "metadata": {
        "id": "fLkKZc-waHlP",
        "colab_type": "code",
        "colab": {
          "base_uri": "https://localhost:8080/",
          "height": 235
        },
        "outputId": "1d3c21a0-e646-439b-a2e6-a5f6bb05ea3d"
      },
      "source": [
        "#assessing the model\n",
        "\n",
        "#building confusion matrix \n",
        "from sklearn.metrics import classification_report, confusion_matrix\n",
        "print(confusion_matrix(y_test, y_pred))\n",
        "print(classification_report(y_test, y_pred))"
      ],
      "execution_count": 14,
      "outputs": [
        {
          "output_type": "stream",
          "text": [
            "[[ 8  0  0]\n",
            " [ 0  9  0]\n",
            " [ 0  3 10]]\n",
            "              precision    recall  f1-score   support\n",
            "\n",
            "         0.0       1.00      1.00      1.00         8\n",
            "         1.0       0.75      1.00      0.86         9\n",
            "         2.0       1.00      0.77      0.87        13\n",
            "\n",
            "    accuracy                           0.90        30\n",
            "   macro avg       0.92      0.92      0.91        30\n",
            "weighted avg       0.93      0.90      0.90        30\n",
            "\n"
          ],
          "name": "stdout"
        }
      ]
    },
    {
      "cell_type": "code",
      "metadata": {
        "id": "qu2Y0ReJaUGG",
        "colab_type": "code",
        "colab": {
          "base_uri": "https://localhost:8080/",
          "height": 279
        },
        "outputId": "c390b730-6e61-4bf2-f5e4-1b13f7c47985"
      },
      "source": [
        "# analysing the model\n",
        "#lets plot confusion matrix\n",
        "matrix = confusion_matrix(y_test, y_pred)\n",
        "from mlxtend.plotting import plot_confusion_matrix\n",
        "fig, ax = plot_confusion_matrix(conf_mat=matrix)\n",
        "pl.savefig('NNConfusionMatrix.png')\n",
        "pl.show()"
      ],
      "execution_count": 15,
      "outputs": [
        {
          "output_type": "display_data",
          "data": {
            "image/png": "[encoded data removed]",
            "text/plain": [
              "<Figure size 432x288 with 1 Axes>"
            ]
          },
          "metadata": {
            "tags": [],
            "needs_background": "light"
          }
        }
      ]
    },
    {
      "cell_type": "code",
      "metadata": {
        "id": "TPJSox71aYaQ",
        "colab_type": "code",
        "colab": {}
      },
      "source": [
        ""
      ],
      "execution_count": 0,
      "outputs": []
    }
  ]
}